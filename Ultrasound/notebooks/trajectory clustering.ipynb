{
 "cells": [
  {
   "cell_type": "markdown",
   "metadata": {
    "toc": "true"
   },
   "source": [
    "# Table of Contents\n",
    " <p><div class=\"lev1 toc-item\"><a href=\"#Dimension-reduction\" data-toc-modified-id=\"Dimension-reduction-1\"><span class=\"toc-item-num\">1&nbsp;&nbsp;</span>Dimension reduction</a></div>"
   ]
  },
  {
   "cell_type": "code",
   "execution_count": 2,
   "metadata": {
    "collapsed": false,
    "run_control": {
     "frozen": false,
     "read_only": false
    }
   },
   "outputs": [],
   "source": [
    "#library(ggbiplot)\n",
    "library(tidyverse, quiet=T)\n",
    "\n",
    "library(caret, quiet=T)\n",
    "\n",
    "dat0 <- read.csv(\"../datasets/Ultrasound/training_ultrasound.csv\")\n",
    "\n",
    "# Use Hadlok equation to estimate fetal weight from the 4 key ultrasound measurements\n",
    "dat.raw = dat0 %>%\n",
    "    mutate(\n",
    "        LOG10.FWT.GM = 1.3596 + 0.0064*HCIRCM + 0.0424*ABCIRCM + 0.174*FEMURCM + 0.00061*BPDCM*ABCIRCM - 0.00386*ABCIRCM*FEMURCM,\n",
    "        WTKG.estimate = ifelse(AGEDAYS<1 ,(10^LOG10.FWT.GM)/1000 ,WTKG) ,\n",
    "        Study = paste('Study', STUDYID)\n",
    "        )\n",
    "\n",
    "dat = dat.raw %>% group_by(SUBJID) %>%\n",
    "    mutate(tot.measurements = n()) %>%\n",
    "    filter(tot.measurements >1)"
   ]
  },
  {
   "cell_type": "markdown",
   "metadata": {},
   "source": [
    "# Dimension reduction\n",
    "\n",
    "We use PCA to reduce the four physical variables to one single dimension"
   ]
  },
  {
   "cell_type": "code",
   "execution_count": 47,
   "metadata": {
    "collapsed": false,
    "run_control": {
     "frozen": false,
     "read_only": false
    }
   },
   "outputs": [],
   "source": [
    "# clean data, remove samples with only one observation\n",
    "dat.covars = dat %>% ungroup %>%\n",
    "    select(ABCIRCM, HCIRCM, BPDCM, FEMURCM)\n",
    "\n",
    "dat.preproc = dat.covars  %>%\n",
    "    mutate_each(funs(as.numeric(.))) %>%\n",
    "    preProcess(., method=c(\"center\", \"scale\", \"knnImpute\", \"pca\"))"
   ]
  },
  {
   "cell_type": "code",
   "execution_count": 61,
   "metadata": {
    "collapsed": false,
    "run_control": {
     "frozen": false,
     "read_only": false
    }
   },
   "outputs": [
    {
     "data": {
      "text/html": [
       "7940"
      ],
      "text/latex": [
       "7940"
      ],
      "text/markdown": [
       "7940"
      ],
      "text/plain": [
       "[1] 7940"
      ]
     },
     "metadata": {},
     "output_type": "display_data"
    },
    {
     "data": {
      "text/html": [
       "7940"
      ],
      "text/latex": [
       "7940"
      ],
      "text/markdown": [
       "7940"
      ],
      "text/plain": [
       "[1] 7940"
      ]
     },
     "metadata": {},
     "output_type": "display_data"
    }
   ],
   "source": [
    "dat.prcomp = dat.preproc$data %>% prcomp()\n",
    "\n",
    "\n",
    "dat.prcomp$x %>% nrow\n",
    "#dat.preproc$data %>% ungroup %>% mutate(\n",
    "#    PC1=\n",
    "#        ABCIRCM*dat.preproc$rotation[1] +\n",
    "#        HCIRCM *dat.preproc$rotation[2] +\n",
    "#        BPDCM  *dat.preproc$rotation[3] +\n",
    "#        FEMURCM*dat.preproc$rotation[4]\n",
    "#    ) %>%\n",
    "#    nrow\n",
    "\n",
    "dat.covars %>% filter(complete.cases(.)) %>% nrow"
   ]
  },
  {
   "cell_type": "code",
   "execution_count": null,
   "metadata": {
    "collapsed": false,
    "run_control": {
     "frozen": false,
     "read_only": false
    }
   },
   "outputs": [],
   "source": []
  },
  {
   "cell_type": "code",
   "execution_count": 21,
   "metadata": {
    "collapsed": false,
    "run_control": {
     "frozen": false,
     "read_only": false
    }
   },
   "outputs": [
    {
     "data": {
      "text/html": [
       "7940"
      ],
      "text/latex": [
       "7940"
      ],
      "text/markdown": [
       "7940"
      ],
      "text/plain": [
       "[1] 7940"
      ]
     },
     "metadata": {},
     "output_type": "display_data"
    },
    {
     "data": {
      "text/html": [
       "17336"
      ],
      "text/latex": [
       "17336"
      ],
      "text/markdown": [
       "17336"
      ],
      "text/plain": [
       "[1] 17336"
      ]
     },
     "metadata": {},
     "output_type": "display_data"
    },
    {
     "data": {
      "text/html": [
       "<table>\n",
       "<thead><tr><th></th><th scope=col>PC1</th><th scope=col>PC2</th><th scope=col>PC3</th><th scope=col>PC4</th></tr></thead>\n",
       "<tbody>\n",
       "\t<tr><th scope=row>ABCIRCM</th><td>-0.5377268 </td><td>-0.7129458 </td><td> 0.44874284</td><td>-0.03446891</td></tr>\n",
       "\t<tr><th scope=row>HCIRCM</th><td>-0.3759303 </td><td> 0.2759221 </td><td> 0.05571315</td><td> 0.88285870</td></tr>\n",
       "\t<tr><th scope=row>BPDCM</th><td>-0.5303786 </td><td> 0.6356879 </td><td> 0.34014992</td><td>-0.44597912</td></tr>\n",
       "\t<tr><th scope=row>FEMURCM</th><td>-0.5368658 </td><td>-0.1071268 </td><td>-0.82451437</td><td>-0.14309101</td></tr>\n",
       "</tbody>\n",
       "</table>\n"
      ],
      "text/latex": [
       "\\begin{tabular}{r|llll}\n",
       "  & PC1 & PC2 & PC3 & PC4\\\\\n",
       "\\hline\n",
       "\tABCIRCM & -0.5377268  & -0.7129458  &  0.44874284 & -0.03446891\\\\\n",
       "\tHCIRCM & -0.3759303  &  0.2759221  &  0.05571315 &  0.88285870\\\\\n",
       "\tBPDCM & -0.5303786  &  0.6356879  &  0.34014992 & -0.44597912\\\\\n",
       "\tFEMURCM & -0.5368658  & -0.1071268  & -0.82451437 & -0.14309101\\\\\n",
       "\\end{tabular}\n"
      ],
      "text/markdown": [
       "1. -0.537726762851005\n",
       "2. -0.375930282708945\n",
       "3. -0.530378629839511\n",
       "4. -0.536865774720008\n",
       "5. -0.712945782460054\n",
       "6. 0.275922068220389\n",
       "7. 0.635687944984507\n",
       "8. -0.107126841374043\n",
       "9. 0.448742837194574\n",
       "10. 0.0557131545788246\n",
       "11. 0.340149921432647\n",
       "12. -0.82451436702025\n",
       "13. -0.0344689113951137\n",
       "14. 0.882858697198046\n",
       "15. -0.44597912121567\n",
       "16. -0.143091014283576\n",
       "\n",
       "\n"
      ],
      "text/plain": [
       "        PC1        PC2        PC3         PC4        \n",
       "ABCIRCM -0.5377268 -0.7129458  0.44874284 -0.03446891\n",
       "HCIRCM  -0.3759303  0.2759221  0.05571315  0.88285870\n",
       "BPDCM   -0.5303786  0.6356879  0.34014992 -0.44597912\n",
       "FEMURCM -0.5368658 -0.1071268 -0.82451437 -0.14309101"
      ]
     },
     "metadata": {},
     "output_type": "display_data"
    }
   ],
   "source": [
    "dat.prcomp$x %>% nrow\n",
    "dat.covars %>% nrow\n",
    "dat.prcomp$rotation"
   ]
  }
 ],
 "metadata": {
  "hide_input": false,
  "kernelspec": {
   "display_name": "R 3.3",
   "language": "R",
   "name": "ir33"
  },
  "language_info": {
   "codemirror_mode": "r",
   "file_extension": ".r",
   "mimetype": "text/x-r-source",
   "name": "R",
   "pygments_lexer": "r",
   "version": "3.3.1"
  },
  "nav_menu": {},
  "toc": {
   "navigate_menu": true,
   "number_sections": true,
   "sideBar": true,
   "threshold": 6,
   "toc_cell": true,
   "toc_section_display": "block",
   "toc_window_display": false
  }
 },
 "nbformat": 4,
 "nbformat_minor": 1
}
